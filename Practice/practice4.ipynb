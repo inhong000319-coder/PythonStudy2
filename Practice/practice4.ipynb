{
  "cells": [
    {
      "cell_type": "markdown",
      "metadata": {
        "id": "PAc13cJJ8oHv"
      },
      "source": [
        "[1] 은행 계좌 클래스\n",
        "\n",
        "    BankAccount 클래스 정의\n",
        "    - 속성 : 계좌번호(account_number), 잔액(balance)\n",
        "    - 메소드 :\n",
        "      * deposit(amount) : 입금. 잔액을 증가시킨다.\n",
        "      * withdraw(amount): 출금. 잔액을 감소시킨다.\n",
        "                          단, 잔액이 부족하면 \"잔액이 부족합니다.\" 출력한다.\n",
        "      * show_balance()  : 잔액 확인. 현재 잔액을 출력한다."
      ]
    },
    {
      "cell_type": "code",
      "execution_count": 19,
      "metadata": {
        "id": "gQUDytK06wyW"
      },
      "outputs": [
        {
          "name": "stdout",
          "output_type": "stream",
          "text": [
            "500원 입금완료. 현재 잔액 : 1500원\n",
            "잔액이 부족합니다.\n",
            "계좌 : 111-222 잔액 : 1500\n"
          ]
        }
      ],
      "source": [
        "class BankAccount:\n",
        "    def __init__(self, account_number, balance):\n",
        "        self.account_number = account_number\n",
        "        self.balance = balance\n",
        "\n",
        "    def deposit(self, amount):\n",
        "        self.balance += amount\n",
        "        print(f\"{amount}원 입금완료. 현재 잔액 : {self.balance}원\")\n",
        "\n",
        "    def withdraw(self, amount):\n",
        "        if self.balance < amount:\n",
        "            print(\"잔액이 부족합니다.\")\n",
        "            return\n",
        "        \n",
        "        self.blalance -= amount\n",
        "        print(f\"{amount}원 출금 완료. 현재 잔액 : {self.balance}원\")\n",
        "\n",
        "    def show_balance(self):\n",
        "        print(f\"계좌 : {self.account_number} 잔액 : {self.balance}\")\n",
        "\n",
        "    \n",
        "\n",
        "kim_bank = BankAccount(\"111-222\", 1000)\n",
        "kim_bank.deposit(500)           # 출력예) 500원 입금 완료. 현재 잔액: 1500원\n",
        "kim_bank.withdraw(2000)         # 출력예) 잔액이 부족합니다.\n",
        "kim_bank.show_balance()         # 출력예) 계좌 111-222 잔액: 1500원"
      ]
    },
    {
      "cell_type": "markdown",
      "metadata": {
        "id": "W3j4MSvD-dSg"
      },
      "source": [
        "[2] 온라인 쇼핑몰 클래스\n",
        "\n",
        "     Product 클래스\n",
        "     - 속성 : 상품명(name), 가격(price), 재고(__stock)\n",
        "     - 메소드 :\n",
        "       * reduce_stock(quantity) : 구매 시 재고 감소\n",
        "       * add_stock(quantity) : 재고 추가\n",
        "       * get_stock() : 현재 재고 조회\n",
        "       * __str__() : 상품 정보 문자열로 반환\n",
        "\n",
        "     Cart 클래스\n",
        "     - 속성 : 담은 상품 목록(items) -> (Product 객체, 수량) 형태로 저장\n",
        "     - 메소드 :\n",
        "       * add_product(product, quantity) : 장바구니에 상품 추가\n",
        "       * remove_product(product_name) : 장바구니에서 상품 제거\n",
        "       * show_cart() : 장바구니 내역 출력\n",
        "       * total_price() : 장바구니 총액 계산"
      ]
    },
    {
      "cell_type": "code",
      "execution_count": 22,
      "metadata": {
        "id": "QtnCAkMV-rBg"
      },
      "outputs": [
        {
          "name": "stdout",
          "output_type": "stream",
          "text": [
            "노트북 재고 1 차감. 남은 수량 : 4\n",
            "노트북 1개 장바구니에 추가\n",
            "마우스 재고 2 차감. 남은 수량 : 8\n",
            "마우스 2개 장바구니에 추가\n",
            "장바구니 내역:\n",
            "- 노트북 (1개) : 1200000원\n",
            "- 마우스 (2개) : 60000원\n",
            "총 금액 : 1260000원\n",
            "마우스 재고 2 추가. 남은 수량 : 10\n",
            "마우스 장바구니에서 제거\n",
            "장바구니 내역:\n",
            "- 노트북 (1개) : 1200000원\n",
            "총 금액 : 1200000원\n"
          ]
        },
        {
          "data": {
            "text/plain": [
              "'\\n출력예)\\n장바구니 내역:\\n- 노트북 (1개) : 1200000원\\n'"
            ]
          },
          "execution_count": 22,
          "metadata": {},
          "output_type": "execute_result"
        }
      ],
      "source": [
        "class Product:\n",
        "    def __init__(self, name, price, stock):\n",
        "        self.name = name\n",
        "        self.price = price\n",
        "        self.__stock = stock\n",
        "\n",
        "    def reduce_stock(self, quantity):\n",
        "        if self.__stock >=quantity:\n",
        "            self.__stock -= quantity\n",
        "            print(f\"{self.name} 재고 {quantity} 차감. 남은 수량 : {self.__stock}\")\n",
        "        else:\n",
        "            print(f\"{self.name} 재고 부족\")\n",
        "\n",
        "    def add_stock(self, quantity):\n",
        "        self.__stock += quantity\n",
        "        print(f\"{self.name} 재고 {quantity} 추가. 남은 수량 : {self.__stock}\")\n",
        "\n",
        "    def get_stock(self):\n",
        "        return self.__stock\n",
        "    \n",
        "    def __str__(self):\n",
        "        return f\"{self.name} ({self.price}원 / {self.__stock}개)\"\n",
        "    \n",
        "class Cart:\n",
        "    def __init__(self, ):\n",
        "        self.items = []     #Cart(장바구니) 객체 생성 시 리스트는 비어있음\n",
        "\n",
        "    def add_product(self, product, quantity):\n",
        "        # 해당 제품의 재고가 개수보다 많을 경우 장바구니에 추가\n",
        "        if product.get_stock() >= quantity:\n",
        "            self.items.append((product, quantity))      #[] --> [(Product, 개수)]\n",
        "            product.reduce_stock(quantity)\n",
        "            print(f\"{product.name} {quantity}개 장바구니에 추가\")\n",
        "        else:\n",
        "            print(f\"{product.name}은 재고 부족으로 장바구니에 담을 수 없습니다.\")\n",
        "\n",
        "    def remove_product(self, product_name):\n",
        "        for index, (product, qty) in enumerate(self.items):\n",
        "            if product.name == product_name:\n",
        "                self.items.pop(index)   # 장바구니에서 제거\n",
        "                product.add_stock(qty)  # 재고 업데이트\n",
        "                print(f\"{product_name} 장바구니에서 제거\")\n",
        "                return\n",
        "\n",
        "        # 장바구니에 없는 경우\n",
        "        print(f\"{product_name} 장바구니에 없음\")\n",
        "\n",
        "    def total_price(self):\n",
        "        '''\n",
        "        total = 0\n",
        "        for product, qty in self.items:\n",
        "            total += product.price * qty\n",
        "\n",
        "        return total\n",
        "        '''\n",
        "\n",
        "        return sum(product.price * qty for product, qty in self.items)\n",
        "    \n",
        "    def show_cart(self):\n",
        "\n",
        "        if not self.items:\n",
        "            print(\"장바구니가 비었습니다.\")\n",
        "            return\n",
        "\n",
        "        print(\"장바구니 내역:\")\n",
        "        for p, q in self.items:\n",
        "            print(f\"- {p.name} ({q}개) : {p.price*q}원\")\n",
        "        print(f\"총 금액 : {self.total_price()}원\")\n",
        "\n",
        "\n",
        "p1 = Product(\"노트북\", 1200000, 5)\n",
        "p2 = Product(\"마우스\", 30000, 10)\n",
        "\n",
        "cart = Cart()\n",
        "\n",
        "cart.add_product(p1, 1)         # 출력예) 노트북 1개 장바구니에 추가\n",
        "cart.add_product(p2, 2)         # 출력예) 마우스 2개 장바구니에 추가\n",
        "cart.show_cart()\n",
        "'''\n",
        "출력예)\n",
        "장바구니 내역:\n",
        "- 노트북 (1개) : 1200000원\n",
        "- 마우스 (2개) : 60000원\n",
        "총 금액: 1260000원\n",
        "'''\n",
        "\n",
        "cart.remove_product(\"마우스\")   # 출력예) 마우스 장바구니에서 제거\n",
        "cart.show_cart()\n",
        "'''\n",
        "출력예)\n",
        "장바구니 내역:\n",
        "- 노트북 (1개) : 1200000원\n",
        "'''\n"
      ]
    }
  ],
  "metadata": {
    "colab": {
      "provenance": []
    },
    "kernelspec": {
      "display_name": "Python 3",
      "name": "python3"
    },
    "language_info": {
      "codemirror_mode": {
        "name": "ipython",
        "version": 3
      },
      "file_extension": ".py",
      "mimetype": "text/x-python",
      "name": "python",
      "nbconvert_exporter": "python",
      "pygments_lexer": "ipython3",
      "version": "3.11.9"
    }
  },
  "nbformat": 4,
  "nbformat_minor": 0
}
